{
 "cells": [
  {
   "cell_type": "markdown",
   "metadata": {},
   "source": [
    "Name: Kalaiarasi sargunaraj \n",
    "Student No: 17200399\n",
    "Name:Parkavi Kolandavel Mani\n",
    "Student No: 18200072\n",
    "\n"
   ]
  },
  {
   "cell_type": "code",
   "execution_count": 1,
   "metadata": {},
   "outputs": [
    {
     "name": "stderr",
     "output_type": "stream",
     "text": [
      "[nltk_data] Downloading package punkt to\n",
      "[nltk_data]     C:\\Users\\kalaisr\\AppData\\Roaming\\nltk_data...\n",
      "[nltk_data]   Package punkt is already up-to-date!\n",
      "[nltk_data] Downloading package wordnet to\n",
      "[nltk_data]     C:\\Users\\kalaisr\\AppData\\Roaming\\nltk_data...\n",
      "[nltk_data]   Package wordnet is already up-to-date!\n"
     ]
    }
   ],
   "source": [
    "import urllib.request\n",
    "import bs4\n",
    "import pandas as pd\n",
    "from sklearn.feature_extraction import text \n",
    "from sklearn.feature_extraction.text import CountVectorizer\n",
    "from nltk import word_tokenize \n",
    "from nltk.stem import WordNetLemmatizer\n",
    "from nltk.stem.porter import PorterStemmer\n",
    "import nltk\n",
    "nltk.download('punkt')\n",
    "nltk.download('wordnet')\n",
    "import re\n",
    "from sklearn.model_selection import KFold\n",
    "import string\n",
    "from sklearn.neighbors import KNeighborsClassifier\n",
    "from sklearn.model_selection import train_test_split\n",
    "from sklearn.metrics import accuracy_score\n",
    "from sklearn import tree\n",
    "from sklearn.feature_extraction.text import TfidfVectorizer\n",
    "from sklearn import svm\n",
    "from sklearn.model_selection import cross_val_score\n",
    "from sklearn.naive_bayes import GaussianNB\n",
    "from sklearn.neural_network import MLPClassifier\n",
    "import numpy as np\n",
    "from sklearn.metrics import confusion_matrix\n",
    "from sklearn.model_selection import cross_validate\n"
   ]
  },
  {
   "cell_type": "markdown",
   "metadata": {},
   "source": [
    "Creating empty dictionaries to save the reviews and respective class labels"
   ]
  },
  {
   "cell_type": "code",
   "execution_count": 2,
   "metadata": {},
   "outputs": [],
   "source": [
    "baseURL = \"http://mlg.ucd.ie/modules/yalp/\"\n",
    "reviews_automative={'class':[], \"reviews\":[]}\n",
    "reviews_restaurants={'class':[], \"reviews\":[]}"
   ]
  },
  {
   "cell_type": "markdown",
   "metadata": {},
   "source": [
    "method that accepts a link as param and returns the source of the link's web page"
   ]
  },
  {
   "cell_type": "code",
   "execution_count": 3,
   "metadata": {},
   "outputs": [],
   "source": [
    "def getWebPage(relative_link):\n",
    "    link = baseURL+relative_link\n",
    "    response = urllib.request.urlopen(link)\n",
    "    if response.code==200:\n",
    "        return response.read().decode()\n",
    "    else:\n",
    "        print(\"Request failed with a code\"+response.code)"
   ]
  },
  {
   "cell_type": "markdown",
   "metadata": {},
   "source": [
    "Method that accepts a link as  param, scrapes and returns the reviews and respective ratings. It stores the scraped reviews in a dictionary. It also scrapes the ratings associated with the review and converts that to one of the labels - 'positive','negative' before returning them"
   ]
  },
  {
   "cell_type": "code",
   "execution_count": 4,
   "metadata": {},
   "outputs": [],
   "source": [
    "def getReviews(relative_link):\n",
    "    html = getWebPage(relative_link)\n",
    "    parser = bs4.BeautifulSoup(html,\"html.parser\")\n",
    "    reviews={'class':[], \"reviews\":[]}\n",
    "    for business in parser.find_all(\"a\", href=True):\n",
    "     business_link = business['href']\n",
    "     business_html = getWebPage(business_link)\n",
    "     review_parser = bs4.BeautifulSoup(business_html,\"html.parser\")\n",
    "     for review in review_parser.find_all(class_=\"review\"):\n",
    "        rating = review.find(class_=\"stars\").find(\"img\").get(\"alt\")\n",
    "        reviewText = review.find(class_=\"text\").text\n",
    "        reviews[\"class\"].append('negative' if int(rating[0])<4 else 'positive')\n",
    "        reviews[\"reviews\"].append(reviewText.strip())\n",
    "    return reviews"
   ]
  },
  {
   "cell_type": "markdown",
   "metadata": {},
   "source": [
    "Storing the retrieved of both categories  in seperate data frame for the ease of manipulation.\n",
    "Category A - Automotive\n",
    "Category B - Restaurants"
   ]
  },
  {
   "cell_type": "code",
   "execution_count": 5,
   "metadata": {},
   "outputs": [],
   "source": [
    "reviews_automative = getReviews(\"automotive_list.html\")\n",
    "reviews_restaurants = getReviews(\"restaurants_list.html\")\n",
    "columns =[\"class\",\"reviews\"]\n",
    "reviews_automative_frame = pd.DataFrame.from_dict(reviews_automative)\n",
    "reviews_restaurants_frame = pd.DataFrame.from_dict(reviews_restaurants)"
   ]
  },
  {
   "cell_type": "markdown",
   "metadata": {},
   "source": [
    "Preprocessing the reviews before they are tokenized:\n",
    "    1) removing all the numbers and punctuations as they are not of value on mining the documents in this context\n",
    "    2)removing stop words- standard english stop words from the library along with some custom stop words\n",
    "    3)removing words with length lesser than 2\n",
    "    4) converting all terms to lower case"
   ]
  },
  {
   "cell_type": "code",
   "execution_count": 6,
   "metadata": {},
   "outputs": [],
   "source": [
    "my_additional_stop_words = [\"am\",\"pm\",\"and\",\"the\"]\n",
    "stop_words = (text.ENGLISH_STOP_WORDS.union(my_additional_stop_words))\n",
    "def review_preprocessor(tokens):\n",
    "    r = re.sub('[\\d]+', '', tokens.lower())\n",
    "    r = \"\".join([ch for ch in r if ch not in string.punctuation]) \n",
    "    r = ' '.join([word for word in r.split() if word not in (stop_words)])\n",
    "    r = ' '.join([word for word in r.split() if len(word)>2])\n",
    "    return r\n",
    "\n"
   ]
  },
  {
   "cell_type": "markdown",
   "metadata": {},
   "source": [
    "Definig a Lemmentizing Tokenizer"
   ]
  },
  {
   "cell_type": "code",
   "execution_count": 7,
   "metadata": {},
   "outputs": [],
   "source": [
    "class LemmaTokenizer(object):\n",
    "    def __init__(self):\n",
    "         self.wnl = WordNetLemmatizer()\n",
    "    def __call__(self, doc):\n",
    "        a = [self.wnl.lemmatize(t) for t in word_tokenize(doc)]\n",
    "        return a"
   ]
  },
  {
   "cell_type": "markdown",
   "metadata": {},
   "source": [
    "A method to vectorize the given corpus. It is built using a preprocessor that removes numbers, punctuations, terms with length less than 2 and stop words. Lemmentization has been done post tokenization. PArams has been tuned for specified the minimum and maximum term frequencies. ngram_range has been specied in range 1 to 2 to and is found to give good performance. \n"
   ]
  },
  {
   "cell_type": "code",
   "execution_count": 8,
   "metadata": {},
   "outputs": [],
   "source": [
    "def vectorize(reviews):\n",
    "    vectorizer = CountVectorizer(preprocessor=review_preprocessor, tokenizer=LemmaTokenizer(), min_df=0.04, max_df=0.8, ngram_range=(1, 2), lowercase=False)\n",
    "    return vectorizer.fit_transform(reviews)\n",
    "\n",
    "\n"
   ]
  },
  {
   "cell_type": "markdown",
   "metadata": {},
   "source": [
    "Concatenating the reviews from both category data frames and vectorizing them togeather. They are seperated into two different matrices post vectorization. "
   ]
  },
  {
   "cell_type": "code",
   "execution_count": 9,
   "metadata": {},
   "outputs": [],
   "source": [
    "cat_A_len = len(reviews_automative_frame['reviews'])\n",
    "cat_B_len  = len(reviews_restaurants_frame['reviews'])\n",
    "new_list = reviews_automative_frame['reviews'].append(reviews_restaurants_frame['reviews'])\n",
    "matrix = vectorize(new_list)\n",
    "reviews_automative_matrix = matrix[:cat_A_len]\n",
    "reviews_restaurants_matrix = matrix[cat_A_len:cat_A_len+cat_B_len]"
   ]
  },
  {
   "cell_type": "markdown",
   "metadata": {},
   "source": [
    "Experiment 1: Support Vector Classification trained and tested on Category A - Automotive data\n",
    "The accuracy was the highest for this category and classifier combination. This was expected as more data is available for category A when compared to category B. The Accuracy and Confusion martices have been printed."
   ]
  },
  {
   "cell_type": "code",
   "execution_count": 10,
   "metadata": {},
   "outputs": [
    {
     "name": "stdout",
     "output_type": "stream",
     "text": [
      "0.8604118993135011\n",
      "[[267  26]\n",
      " [ 35 109]]\n"
     ]
    }
   ],
   "source": [
    "data_train, data_test, target_train, target_test = train_test_split(reviews_automative_matrix, reviews_automative_frame[\"class\"], test_size=0.3)\n",
    "svc_clf = svm.SVC(kernel='linear', C=1)\n",
    "svc_model = svm.SVC(kernel='linear', C=1)\n",
    "svc_model.fit(data_train, target_train)\n",
    "predicted = svc_model.predict(data_test)\n",
    "print(accuracy_score(target_test, predicted))\n",
    "cm = confusion_matrix(target_test, predicted, labels=['positive','negative'])\n",
    "print(cm)"
   ]
  },
  {
   "cell_type": "markdown",
   "metadata": {},
   "source": [
    "Experiment 1 evaluated with cross validation "
   ]
  },
  {
   "cell_type": "code",
   "execution_count": 11,
   "metadata": {},
   "outputs": [
    {
     "name": "stdout",
     "output_type": "stream",
     "text": [
      "0.8439989968297873\n"
     ]
    }
   ],
   "source": [
    "svc_clf = svm.SVC(kernel='linear', C=1)\n",
    "acc_scores = cross_validate (svc_clf, reviews_automative_matrix, reviews_automative_frame[\"class\"], cv=5,scoring='accuracy')\n",
    "print(acc_scores['test_score'].mean())"
   ]
  },
  {
   "cell_type": "markdown",
   "metadata": {},
   "source": [
    "Experiment 2: Multi-layer Perceptron classifier trained and tested on Category B - Restaurants data. The accuracy was the slightly lower than the accuracy of SVC trained and tested with Category A data. The Accuracy and Confusion martices have been printed."
   ]
  },
  {
   "cell_type": "code",
   "execution_count": 12,
   "metadata": {},
   "outputs": [
    {
     "name": "stdout",
     "output_type": "stream",
     "text": [
      "0.782578991663619\n"
     ]
    }
   ],
   "source": [
    "#data_train, data_test, target_train, target_test = train_test_split(reviews_automative_matrix, reviews_automative_frame[\"class\"], test_size=0.4)\n",
    "mlp_clf = MLPClassifier(solver='lbfgs', alpha=1e-5, hidden_layer_sizes=(10, 2), random_state=1)\n",
    "scores = cross_val_score(mlp_clf, reviews_restaurants_matrix, reviews_restaurants_frame[\"class\"], cv=5,\n",
    "scoring=\"accuracy\")\n",
    "print(scores.mean())"
   ]
  },
  {
   "cell_type": "markdown",
   "metadata": {},
   "source": [
    "Experiment 3: Support Vector Classification trained with Category A(Automotive data) and tested with Category B data(Restaurants). This surprisingly had a good accuracy which indicates that the trained model was able to generalise and make good predictions on other category data."
   ]
  },
  {
   "cell_type": "code",
   "execution_count": 13,
   "metadata": {},
   "outputs": [
    {
     "name": "stdout",
     "output_type": "stream",
     "text": [
      "0.7309027777777778\n",
      "[[283  88]\n",
      " [ 67 138]]\n"
     ]
    }
   ],
   "source": [
    "data_train, data_test, target_train, target_test = train_test_split(reviews_automative_matrix, reviews_automative_frame[\"class\"], test_size=0.3)\n",
    "r_data_train, r_data_test, r_target_train, r_target_test = train_test_split(reviews_restaurants_matrix, reviews_restaurants_frame[\"class\"], test_size=0.4)\n",
    "svc_model = svm.SVC(kernel='linear', C=1)\n",
    "svc_model.fit(data_train, target_train)\n",
    "predicted = svc_model.predict(r_data_test)\n",
    "print(accuracy_score(r_target_test, predicted))\n",
    "cm = confusion_matrix(r_target_test, predicted, labels=['positive','negative'])\n",
    "print(cm)"
   ]
  },
  {
   "cell_type": "markdown",
   "metadata": {},
   "source": [
    "Experiment 4: Support Vector Classification trained with Category B data(Restaurants) and tested with Category A(Automotive data). This also had a good accuracy, slightly lesser than the model trained with Category A data in Experiment 3 as expected."
   ]
  },
  {
   "cell_type": "code",
   "execution_count": 14,
   "metadata": {},
   "outputs": [
    {
     "name": "stdout",
     "output_type": "stream",
     "text": [
      "0.7208237986270023\n",
      "[[226  63]\n",
      " [ 59  89]]\n"
     ]
    }
   ],
   "source": [
    "data_train, data_test, target_train, target_test = train_test_split(reviews_automative_matrix, reviews_automative_frame[\"class\"], test_size=0.3)\n",
    "r_data_train, r_data_test, r_target_train, r_target_test = train_test_split(reviews_restaurants_matrix, reviews_restaurants_frame[\"class\"], test_size=0.4)\n",
    "svc_model = svm.SVC(kernel='linear', C=1)\n",
    "svc_model.fit(r_data_train, r_target_train)\n",
    "predicted = svc_model.predict(data_test)\n",
    "print(accuracy_score(target_test, predicted))\n",
    "cm = confusion_matrix(target_test, predicted, labels=['positive','negative'])\n",
    "print(cm)"
   ]
  },
  {
   "cell_type": "markdown",
   "metadata": {},
   "source": [
    "Experiment 5: Multi-layer Perceptron classifier trained with Category A(Automotive data) and tested with Category B data(Restaurants). This model also  gave a surprisingly good accuracy which indicates that the trained model was able to generalise and make good predictions on other category data."
   ]
  },
  {
   "cell_type": "code",
   "execution_count": 15,
   "metadata": {},
   "outputs": [
    {
     "name": "stdout",
     "output_type": "stream",
     "text": [
      "0.7482638888888888\n",
      "[[300  72]\n",
      " [ 73 131]]\n"
     ]
    }
   ],
   "source": [
    "data_train, data_test, target_train, target_test = train_test_split(reviews_automative_matrix, reviews_automative_frame[\"class\"], test_size=0.3)\n",
    "r_data_train, r_data_test, r_target_train, r_target_test = train_test_split(reviews_restaurants_matrix, reviews_restaurants_frame[\"class\"], test_size=0.4)\n",
    "mlp_clf_cross = MLPClassifier(solver='lbfgs', alpha=1e-5, hidden_layer_sizes=(10, 2), random_state=1)\n",
    "mlp_clf_cross.fit(data_train, target_train)\n",
    "predicted = mlp_clf_cross.predict(r_data_test)\n",
    "print(accuracy_score(r_target_test, predicted))\n",
    "cm = confusion_matrix(r_target_test, predicted, labels=['positive','negative'])\n",
    "print(cm)"
   ]
  },
  {
   "cell_type": "markdown",
   "metadata": {},
   "source": [
    "Experiment 6: Multi-layer Perceptron classifier trained with Category B data(Restaurants)  and tested with Category A(Automotive data)"
   ]
  },
  {
   "cell_type": "code",
   "execution_count": 16,
   "metadata": {},
   "outputs": [
    {
     "name": "stdout",
     "output_type": "stream",
     "text": [
      "0.7780320366132724\n",
      "[[225  70]\n",
      " [ 27 115]]\n"
     ]
    }
   ],
   "source": [
    "data_train, data_test, target_train, target_test = train_test_split(reviews_automative_matrix, reviews_automative_frame[\"class\"], test_size=0.3)\n",
    "r_data_train, r_data_test, r_target_train, r_target_test = train_test_split(reviews_restaurants_matrix, reviews_restaurants_frame[\"class\"], test_size=0.4)\n",
    "mlp_clf_cross = MLPClassifier(solver='lbfgs', alpha=1e-5, hidden_layer_sizes=(10, 2), random_state=1)\n",
    "mlp_clf_cross.fit(r_data_train, r_target_train)\n",
    "predicted = mlp_clf_cross.predict(data_test)\n",
    "print(accuracy_score(target_test, predicted))\n",
    "cm = confusion_matrix(target_test, predicted, labels=['positive','negative'])\n",
    "print(cm)"
   ]
  },
  {
   "cell_type": "markdown",
   "metadata": {},
   "source": [
    "Analysis of Results:\n",
    "\n",
    "It was Observed that Pre-Processing and vectorization of the reviews has a huge impact on the classification performance. Producing a Quality set of dimentions(terms) was vital in producing quality results. \n",
    "The classification of Category A - Automotive was exoected to have better accuracy than that of Category B - Restaurants  due to availability of more data. Hence results of Experiment 2 and 3 were as expected. \n",
    "Support Vector Classification performed better on both Categories when compared to Multi-layer Perceptron classifier .\n",
    "When training the data on one category and testing it with the other category, it is expected to get a lesser accuracy and this was the case. Although,  experiments 3, 4, 5 and 6 showed that both the classifiers generalised well and gave a good accuracy only slighlt less than the accuracies that resulted from Experiment 2 and 3"
   ]
  },
  {
   "cell_type": "code",
   "execution_count": null,
   "metadata": {},
   "outputs": [],
   "source": []
  }
 ],
 "metadata": {
  "kernelspec": {
   "display_name": "Python 3",
   "language": "python",
   "name": "python3"
  },
  "language_info": {
   "codemirror_mode": {
    "name": "ipython",
    "version": 3
   },
   "file_extension": ".py",
   "mimetype": "text/x-python",
   "name": "python",
   "nbconvert_exporter": "python",
   "pygments_lexer": "ipython3",
   "version": "3.6.8"
  }
 },
 "nbformat": 4,
 "nbformat_minor": 2
}
